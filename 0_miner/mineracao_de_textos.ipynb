{
 "cells": [
  {
   "cell_type": "markdown",
   "metadata": {},
   "source": [
    "O ! é usado para executar comandos do sistema diretamente do Jupyter Notebook. Por exemplo, você pode usar !pip install package_name para instalar pacotes Python diretamente do notebook, como faria no terminal. Isso permite que você instale bibliotecas e execute outros comandos de shell sem sair do ambiente do Jupyter Notebook."
   ]
  },
  {
   "cell_type": "markdown",
   "metadata": {},
   "source": [
    "No Jupyter Notebook, o `%` no comando `%pip install ...` é usado para executar uma \"magic command\" específica do IPython. Essa magic command `%pip` é uma conveniência que garante que o pacote Python seja instalado no ambiente correto do kernel do Jupyter Notebook.\n",
    "\n",
    "### `%pip install`\n",
    "\n",
    "A magic command `%pip install` é utilizada para instalar pacotes Python diretamente do Jupyter Notebook. Ela funciona de forma semelhante ao comando de shell `!pip install`, mas com algumas vantagens:\n",
    "\n",
    "1. **Ambiente Correto**: `%pip install` garante que o pacote seja instalado no ambiente Python que o kernel do Jupyter Notebook está usando, o que pode evitar problemas de ambiente e caminho que podem ocorrer com `!pip install`.\n",
    "\n",
    "2. **Compatibilidade e Integração**: A magic command `%pip` é integrada ao IPython e Jupyter, garantindo melhor compatibilidade e integração com o ambiente do notebook.\n",
    "\n",
    "### Exemplo de Uso\n",
    "\n",
    "Para instalar um pacote como `numpy`, você pode usar:\n",
    "\n",
    "```python\n",
    "%pip install numpy\n",
    "```\n",
    "\n",
    "Este comando instalará o pacote `numpy` no ambiente Python atual do Jupyter Notebook.\n",
    "\n",
    "### Vantagens de Usar `%pip install`\n",
    "\n",
    "1. **Evitando Problemas de Ambiente**: Quando há múltiplas instalações de Python ou ambientes virtuais, `%pip install` assegura que o pacote seja instalado no mesmo ambiente que o kernel do Jupyter Notebook está usando.\n",
    "2. **Facilidade de Uso**: É uma maneira simples e direta de instalar pacotes sem precisar sair do ambiente do Jupyter Notebook.\n",
    "\n",
    "### Diferença entre `!pip install` e `%pip install`\n",
    "\n",
    "- **`!pip install ...`**: Executa o comando `pip install ...` no shell do sistema operacional. Pode não instalar o pacote no ambiente Python correto usado pelo Jupyter Notebook, especialmente em ambientes complexos com múltiplas instalações de Python.\n",
    "- **`%pip install ...`**: Executa o comando `pip install ...` dentro do contexto do IPython/Jupyter Notebook, garantindo que o pacote seja instalado no ambiente Python que o kernel do notebook está usando.\n",
    "\n",
    "### Conclusão\n",
    "\n",
    "O `%pip install` é uma ferramenta poderosa e conveniente no Jupyter Notebook para garantir a instalação de pacotes no ambiente correto, evitando problemas de compatibilidade e caminho que podem surgir com o uso do `!pip install`."
   ]
  },
  {
   "cell_type": "code",
   "execution_count": 1,
   "metadata": {},
   "outputs": [],
   "source": [
    "import nltk"
   ]
  },
  {
   "cell_type": "code",
   "execution_count": 2,
   "metadata": {},
   "outputs": [
    {
     "name": "stdout",
     "output_type": "stream",
     "text": [
      "showing info https://raw.githubusercontent.com/nltk/nltk_data/gh-pages/index.xml\n"
     ]
    }
   ],
   "source": [
    "nltk.download()"
   ]
  },
  {
   "cell_type": "code",
   "execution_count": null,
   "metadata": {},
   "outputs": [],
   "source": [
    "frase = 'Python eh uma linguagem fenomenal'\n",
    "palabras = nltk.word_tokenize(frase)"
   ]
  },
  {
   "cell_type": "code",
   "execution_count": null,
   "metadata": {},
   "outputs": [],
   "source": []
  }
 ],
 "metadata": {
  "kernelspec": {
   "display_name": ".venv",
   "language": "python",
   "name": "python3"
  },
  "language_info": {
   "codemirror_mode": {
    "name": "ipython",
    "version": 3
   },
   "file_extension": ".py",
   "mimetype": "text/x-python",
   "name": "python",
   "nbconvert_exporter": "python",
   "pygments_lexer": "ipython3",
   "version": "3.12.3"
  }
 },
 "nbformat": 4,
 "nbformat_minor": 2
}
